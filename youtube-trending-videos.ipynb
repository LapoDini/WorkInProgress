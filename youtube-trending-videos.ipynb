{
 "cells": [
  {
   "cell_type": "code",
   "execution_count": 1,
   "id": "128a956b",
   "metadata": {
    "_cell_guid": "b1076dfc-b9ad-4769-8c92-a6c4dae69d19",
    "_uuid": "8f2839f25d086af736a60e9eeb907d3b93b6e0e5",
    "execution": {
     "iopub.execute_input": "2022-10-03T15:11:43.068331Z",
     "iopub.status.busy": "2022-10-03T15:11:43.067918Z",
     "iopub.status.idle": "2022-10-03T15:11:44.148941Z",
     "shell.execute_reply": "2022-10-03T15:11:44.147568Z"
    },
    "papermill": {
     "duration": 1.088087,
     "end_time": "2022-10-03T15:11:44.151300",
     "exception": false,
     "start_time": "2022-10-03T15:11:43.063213",
     "status": "completed"
    },
    "tags": []
   },
   "outputs": [],
   "source": [
    "#Importing the libraries I need\n",
    "\n",
    "import pandas as pd \n",
    "import numpy as np\n",
    "import matplotlib.pyplot as plt\n",
    "import seaborn as sns\n",
    "\n",
    "%matplotlib inline"
   ]
  },
  {
   "cell_type": "code",
   "execution_count": 2,
   "id": "46062857",
   "metadata": {
    "execution": {
     "iopub.execute_input": "2022-10-03T15:11:44.157924Z",
     "iopub.status.busy": "2022-10-03T15:11:44.157515Z",
     "iopub.status.idle": "2022-10-03T15:11:44.195107Z",
     "shell.execute_reply": "2022-10-03T15:11:44.193710Z"
    },
    "papermill": {
     "duration": 0.04375,
     "end_time": "2022-10-03T15:11:44.197757",
     "exception": false,
     "start_time": "2022-10-03T15:11:44.154007",
     "status": "completed"
    },
    "tags": []
   },
   "outputs": [],
   "source": [
    "data = pd.read_csv(\"../input/trending-videos-on-youtube/Trending videos on youtube dataset.csv\", index_col = 0)"
   ]
  },
  {
   "cell_type": "code",
   "execution_count": 3,
   "id": "40364f48",
   "metadata": {
    "execution": {
     "iopub.execute_input": "2022-10-03T15:11:44.204036Z",
     "iopub.status.busy": "2022-10-03T15:11:44.203647Z",
     "iopub.status.idle": "2022-10-03T15:11:44.230865Z",
     "shell.execute_reply": "2022-10-03T15:11:44.229712Z"
    },
    "papermill": {
     "duration": 0.033021,
     "end_time": "2022-10-03T15:11:44.233300",
     "exception": false,
     "start_time": "2022-10-03T15:11:44.200279",
     "status": "completed"
    },
    "tags": []
   },
   "outputs": [
    {
     "data": {
      "text/html": [
       "<div>\n",
       "<style scoped>\n",
       "    .dataframe tbody tr th:only-of-type {\n",
       "        vertical-align: middle;\n",
       "    }\n",
       "\n",
       "    .dataframe tbody tr th {\n",
       "        vertical-align: top;\n",
       "    }\n",
       "\n",
       "    .dataframe thead th {\n",
       "        text-align: right;\n",
       "    }\n",
       "</style>\n",
       "<table border=\"1\" class=\"dataframe\">\n",
       "  <thead>\n",
       "    <tr style=\"text-align: right;\">\n",
       "      <th></th>\n",
       "      <th>channelId</th>\n",
       "      <th>channelTitle</th>\n",
       "      <th>videoId</th>\n",
       "      <th>publishedAt</th>\n",
       "      <th>videoTitle</th>\n",
       "      <th>videoDescription</th>\n",
       "      <th>videoCategoryId</th>\n",
       "      <th>videoCategoryLabel</th>\n",
       "      <th>duration</th>\n",
       "      <th>durationSec</th>\n",
       "      <th>definition</th>\n",
       "      <th>caption</th>\n",
       "      <th>viewCount</th>\n",
       "      <th>likeCount</th>\n",
       "      <th>dislikeCount</th>\n",
       "      <th>commentCount</th>\n",
       "    </tr>\n",
       "  </thead>\n",
       "  <tbody>\n",
       "    <tr>\n",
       "      <th>110</th>\n",
       "      <td>UCjnXuO6mfE0-czvcbOYnpbQ</td>\n",
       "      <td>Ayahuasca Magic</td>\n",
       "      <td>j9HFlDff2XY</td>\n",
       "      <td>2016-03-25T04:58:34.000Z</td>\n",
       "      <td>Time differentials: mystery wisdom and microdo...</td>\n",
       "      <td>The lectures I talk about are free (some of th...</td>\n",
       "      <td>24</td>\n",
       "      <td>Entertainment</td>\n",
       "      <td>PT26M</td>\n",
       "      <td>26</td>\n",
       "      <td>hd</td>\n",
       "      <td>False</td>\n",
       "      <td>304</td>\n",
       "      <td>6.0</td>\n",
       "      <td>0.0</td>\n",
       "      <td>22.0</td>\n",
       "    </tr>\n",
       "    <tr>\n",
       "      <th>111</th>\n",
       "      <td>UC0dsjSDsLZ5hbmoNjvsHJsQ</td>\n",
       "      <td>fluidresearch</td>\n",
       "      <td>lOGAkCtT4wk</td>\n",
       "      <td>2010-08-20T14:46:56.000Z</td>\n",
       "      <td>Fluid filling with exact precision dosing by F...</td>\n",
       "      <td>See how the industry leaders in Precision micr...</td>\n",
       "      <td>26</td>\n",
       "      <td>Howto &amp; Style</td>\n",
       "      <td>PT18S</td>\n",
       "      <td>18</td>\n",
       "      <td>sd</td>\n",
       "      <td>False</td>\n",
       "      <td>294</td>\n",
       "      <td>0.0</td>\n",
       "      <td>0.0</td>\n",
       "      <td>0.0</td>\n",
       "    </tr>\n",
       "    <tr>\n",
       "      <th>112</th>\n",
       "      <td>UCmNZB3-zCyMuHCOTraws0dg</td>\n",
       "      <td>Helix Steel Victoria</td>\n",
       "      <td>sTNaGjt6564</td>\n",
       "      <td>2014-05-19T12:14:36.000Z</td>\n",
       "      <td>Accurate dosing of Helix Twisted Steel Micro R...</td>\n",
       "      <td>© Copyright --- Look at the steady rain of Hel...</td>\n",
       "      <td>28</td>\n",
       "      <td>Science &amp; Technology</td>\n",
       "      <td>PT11S</td>\n",
       "      <td>11</td>\n",
       "      <td>hd</td>\n",
       "      <td>False</td>\n",
       "      <td>463</td>\n",
       "      <td>0.0</td>\n",
       "      <td>0.0</td>\n",
       "      <td>0.0</td>\n",
       "    </tr>\n",
       "    <tr>\n",
       "      <th>113</th>\n",
       "      <td>UC281yIVp-U8Ijg4KUVRgDRA</td>\n",
       "      <td>Osiron X</td>\n",
       "      <td>fMlQoGINGHo</td>\n",
       "      <td>2016-04-15T19:31:48.000Z</td>\n",
       "      <td>Psilocybin Mushroom Micro-Dosing</td>\n",
       "      <td>When too much time lapses between trips, the e...</td>\n",
       "      <td>24</td>\n",
       "      <td>Entertainment</td>\n",
       "      <td>PT11M</td>\n",
       "      <td>11</td>\n",
       "      <td>sd</td>\n",
       "      <td>False</td>\n",
       "      <td>341</td>\n",
       "      <td>11.0</td>\n",
       "      <td>1.0</td>\n",
       "      <td>10.0</td>\n",
       "    </tr>\n",
       "    <tr>\n",
       "      <th>114</th>\n",
       "      <td>UCH4ezCqRXHQhsETfl0dainA</td>\n",
       "      <td>FabFormIndustries</td>\n",
       "      <td>ODX4tzCWhhU</td>\n",
       "      <td>2015-08-19T18:25:20.000Z</td>\n",
       "      <td>Dosing Helix Micro Rebar</td>\n",
       "      <td>Coquitlam concrete goes into detail how they d...</td>\n",
       "      <td>27</td>\n",
       "      <td>Education</td>\n",
       "      <td>PT1M</td>\n",
       "      <td>1</td>\n",
       "      <td>hd</td>\n",
       "      <td>False</td>\n",
       "      <td>345</td>\n",
       "      <td>4.0</td>\n",
       "      <td>0.0</td>\n",
       "      <td>0.0</td>\n",
       "    </tr>\n",
       "  </tbody>\n",
       "</table>\n",
       "</div>"
      ],
      "text/plain": [
       "                    channelId          channelTitle      videoId  \\\n",
       "110  UCjnXuO6mfE0-czvcbOYnpbQ       Ayahuasca Magic  j9HFlDff2XY   \n",
       "111  UC0dsjSDsLZ5hbmoNjvsHJsQ         fluidresearch  lOGAkCtT4wk   \n",
       "112  UCmNZB3-zCyMuHCOTraws0dg  Helix Steel Victoria  sTNaGjt6564   \n",
       "113  UC281yIVp-U8Ijg4KUVRgDRA              Osiron X  fMlQoGINGHo   \n",
       "114  UCH4ezCqRXHQhsETfl0dainA     FabFormIndustries  ODX4tzCWhhU   \n",
       "\n",
       "                  publishedAt  \\\n",
       "110  2016-03-25T04:58:34.000Z   \n",
       "111  2010-08-20T14:46:56.000Z   \n",
       "112  2014-05-19T12:14:36.000Z   \n",
       "113  2016-04-15T19:31:48.000Z   \n",
       "114  2015-08-19T18:25:20.000Z   \n",
       "\n",
       "                                            videoTitle  \\\n",
       "110  Time differentials: mystery wisdom and microdo...   \n",
       "111  Fluid filling with exact precision dosing by F...   \n",
       "112  Accurate dosing of Helix Twisted Steel Micro R...   \n",
       "113                   Psilocybin Mushroom Micro-Dosing   \n",
       "114                           Dosing Helix Micro Rebar   \n",
       "\n",
       "                                      videoDescription  videoCategoryId  \\\n",
       "110  The lectures I talk about are free (some of th...               24   \n",
       "111  See how the industry leaders in Precision micr...               26   \n",
       "112  © Copyright --- Look at the steady rain of Hel...               28   \n",
       "113  When too much time lapses between trips, the e...               24   \n",
       "114  Coquitlam concrete goes into detail how they d...               27   \n",
       "\n",
       "       videoCategoryLabel duration  durationSec definition  caption  \\\n",
       "110         Entertainment    PT26M           26         hd    False   \n",
       "111         Howto & Style    PT18S           18         sd    False   \n",
       "112  Science & Technology    PT11S           11         hd    False   \n",
       "113         Entertainment    PT11M           11         sd    False   \n",
       "114             Education     PT1M            1         hd    False   \n",
       "\n",
       "     viewCount  likeCount  dislikeCount  commentCount  \n",
       "110        304        6.0           0.0          22.0  \n",
       "111        294        0.0           0.0           0.0  \n",
       "112        463        0.0           0.0           0.0  \n",
       "113        341       11.0           1.0          10.0  \n",
       "114        345        4.0           0.0           0.0  "
      ]
     },
     "execution_count": 3,
     "metadata": {},
     "output_type": "execute_result"
    }
   ],
   "source": [
    "data.tail()"
   ]
  },
  {
   "cell_type": "code",
   "execution_count": 4,
   "id": "48f0d638",
   "metadata": {
    "execution": {
     "iopub.execute_input": "2022-10-03T15:11:44.241081Z",
     "iopub.status.busy": "2022-10-03T15:11:44.239961Z",
     "iopub.status.idle": "2022-10-03T15:11:44.483558Z",
     "shell.execute_reply": "2022-10-03T15:11:44.482054Z"
    },
    "papermill": {
     "duration": 0.249818,
     "end_time": "2022-10-03T15:11:44.486005",
     "exception": false,
     "start_time": "2022-10-03T15:11:44.236187",
     "status": "completed"
    },
    "tags": []
   },
   "outputs": [
    {
     "data": {
      "text/plain": [
       "<AxesSubplot:>"
      ]
     },
     "execution_count": 4,
     "metadata": {},
     "output_type": "execute_result"
    },
    {
     "data": {
      "image/png": "[encoded data removed]",
      "text/plain": [
       "<Figure size 432x288 with 1 Axes>"
      ]
     },
     "metadata": {
      "needs_background": "light"
     },
     "output_type": "display_data"
    }
   ],
   "source": [
    "# fig, ax = plt.subplots(figsize = (10,8))\n",
    "# ax = plt.bar(data[\"videoCategoryLabel\"])\n",
    "# plt.xticks(rotation = 90);\n",
    "data[\"videoCategoryLabel\"].value_counts().plot(kind = \"bar\")"
   ]
  },
  {
   "cell_type": "code",
   "execution_count": 5,
   "id": "c0338647",
   "metadata": {
    "execution": {
     "iopub.execute_input": "2022-10-03T15:11:44.495043Z",
     "iopub.status.busy": "2022-10-03T15:11:44.494604Z",
     "iopub.status.idle": "2022-10-03T15:11:45.600967Z",
     "shell.execute_reply": "2022-10-03T15:11:45.599869Z"
    },
    "papermill": {
     "duration": 1.114284,
     "end_time": "2022-10-03T15:11:45.603636",
     "exception": false,
     "start_time": "2022-10-03T15:11:44.489352",
     "status": "completed"
    },
    "tags": []
   },
   "outputs": [
    {
     "data": {
      "text/plain": [
       "<AxesSubplot:>"
      ]
     },
     "execution_count": 5,
     "metadata": {},
     "output_type": "execute_result"
    },
    {
     "data": {
      "image/png": "[encoded data removed]",
      "text/plain": [
       "<Figure size 1440x576 with 1 Axes>"
      ]
     },
     "metadata": {
      "needs_background": "light"
     },
     "output_type": "display_data"
    }
   ],
   "source": [
    "data[\"durationSec\"].plot(kind = \"bar\", figsize=(20, 8))"
   ]
  },
  {
   "cell_type": "code",
   "execution_count": 6,
   "id": "94e2d42b",
   "metadata": {
    "execution": {
     "iopub.execute_input": "2022-10-03T15:11:45.612741Z",
     "iopub.status.busy": "2022-10-03T15:11:45.612312Z",
     "iopub.status.idle": "2022-10-03T15:11:45.787132Z",
     "shell.execute_reply": "2022-10-03T15:11:45.786258Z"
    },
    "papermill": {
     "duration": 0.181547,
     "end_time": "2022-10-03T15:11:45.788987",
     "exception": false,
     "start_time": "2022-10-03T15:11:45.607440",
     "status": "completed"
    },
    "tags": []
   },
   "outputs": [
    {
     "data": {
      "image/png": "[encoded data removed]",
      "text/plain": [
       "<Figure size 576x576 with 1 Axes>"
      ]
     },
     "metadata": {
      "needs_background": "light"
     },
     "output_type": "display_data"
    }
   ],
   "source": [
    "fig, ax = plt.subplots(figsize = (8, 8))\n",
    "ax = plt.scatter(x = data[\"durationSec\"], y = data[\"viewCount\"])"
   ]
  },
  {
   "cell_type": "code",
   "execution_count": 7,
   "id": "5949a3ad",
   "metadata": {
    "execution": {
     "iopub.execute_input": "2022-10-03T15:11:45.797981Z",
     "iopub.status.busy": "2022-10-03T15:11:45.797160Z",
     "iopub.status.idle": "2022-10-03T15:11:45.962968Z",
     "shell.execute_reply": "2022-10-03T15:11:45.961736Z"
    },
    "papermill": {
     "duration": 0.172386,
     "end_time": "2022-10-03T15:11:45.964989",
     "exception": false,
     "start_time": "2022-10-03T15:11:45.792603",
     "status": "completed"
    },
    "tags": []
   },
   "outputs": [
    {
     "data": {
      "image/png": "[encoded data removed]",
      "text/plain": [
       "<Figure size 576x576 with 1 Axes>"
      ]
     },
     "metadata": {
      "needs_background": "light"
     },
     "output_type": "display_data"
    }
   ],
   "source": [
    "fig, ax = plt.subplots(figsize = (8, 8))\n",
    "ax = plt.scatter(x = data[\"commentCount\"], y = data[\"viewCount\"])"
   ]
  },
  {
   "cell_type": "code",
   "execution_count": null,
   "id": "a35cc963",
   "metadata": {
    "papermill": {
     "duration": 0.004169,
     "end_time": "2022-10-03T15:11:45.973029",
     "exception": false,
     "start_time": "2022-10-03T15:11:45.968860",
     "status": "completed"
    },
    "tags": []
   },
   "outputs": [],
   "source": []
  }
 ],
 "metadata": {
  "kernelspec": {
   "display_name": "Python 3",
   "language": "python",
   "name": "python3"
  },
  "language_info": {
   "codemirror_mode": {
    "name": "ipython",
    "version": 3
   },
   "file_extension": ".py",
   "mimetype": "text/x-python",
   "name": "python",
   "nbconvert_exporter": "python",
   "pygments_lexer": "ipython3",
   "version": "3.7.12"
  },
  "papermill": {
   "default_parameters": {},
   "duration": 11.525458,
   "end_time": "2022-10-03T15:11:46.701027",
   "environment_variables": {},
   "exception": null,
   "input_path": "__notebook__.ipynb",
   "output_path": "__notebook__.ipynb",
   "parameters": {},
   "start_time": "2022-10-03T15:11:35.175569",
   "version": "2.3.4"
  }
 },
 "nbformat": 4,
 "nbformat_minor": 5
}
